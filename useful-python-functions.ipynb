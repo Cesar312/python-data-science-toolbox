{
 "cells": [
  {
   "cell_type": "markdown",
   "id": "6fe86dd5",
   "metadata": {},
   "source": [
    "# Ten Python Functions Every Data Scientist Must Memorize"
   ]
  },
  {
   "cell_type": "markdown",
   "id": "488e7a38",
   "metadata": {},
   "source": [
    "### 1. Print Function\n",
    "\n",
    "Allows one to display results."
   ]
  },
  {
   "cell_type": "code",
   "execution_count": 1,
   "id": "a63dee68",
   "metadata": {},
   "outputs": [],
   "source": [
    "def display_sales_info(product, sales, revenue):\n",
    "    print(\"Product\", product, sep=\": \")\n",
    "    print(\"Total Sales\", sales, sep=\": \")\n",
    "    print(\"Total Revenue\", revenue, sep=\": \")"
   ]
  },
  {
   "cell_type": "code",
   "execution_count": 2,
   "id": "6823e583",
   "metadata": {},
   "outputs": [
    {
     "name": "stdout",
     "output_type": "stream",
     "text": [
      "Product: Laptop\n",
      "Total Sales: 150\n",
      "Total Revenue: 3000\n"
     ]
    }
   ],
   "source": [
    "display_sales_info(\"Laptop\", 150, 3000)"
   ]
  },
  {
   "cell_type": "markdown",
   "id": "33a989da",
   "metadata": {},
   "source": [
    "### 2. Help Function\n",
    "\n",
    "When you need to understand how a particular function or module works, the `help()` provide the documentation for the specified function or module."
   ]
  },
  {
   "cell_type": "code",
   "execution_count": 3,
   "id": "dedf1620",
   "metadata": {},
   "outputs": [],
   "source": [
    "def calculate_discounted_price(price, discount):\n",
    "    \"\"\"\n",
    "    Calculate the discounted price of a product.\n",
    "    :param price: Original price of the product\n",
    "    :param discount: Discount percentage to be applied\n",
    "    :return: Discounted price after applying the discount\n",
    "    :rtype: float\n",
    "    \"\"\"\n",
    "    discounted_price = price  * (1 - discount / 100)\n",
    "    return discounted_price"
   ]
  },
  {
   "cell_type": "code",
   "execution_count": 4,
   "id": "f398506e",
   "metadata": {},
   "outputs": [
    {
     "name": "stdout",
     "output_type": "stream",
     "text": [
      "Help on function calculate_discounted_price in module __main__:\n",
      "\n",
      "calculate_discounted_price(price, discount)\n",
      "    Calculate the discounted price of a product.\n",
      "    :param price: Original price of the product\n",
      "    :param discount: Discount percentage to be applied\n",
      "    :return: Discounted price after applying the discount\n",
      "    :rtype: float\n",
      "\n"
     ]
    }
   ],
   "source": [
    "help(calculate_discounted_price)"
   ]
  },
  {
   "cell_type": "markdown",
   "id": "3096844d",
   "metadata": {},
   "source": [
    "### 3. Range Function\n",
    "\n",
    "Generates a sequence of numbers, which is useful for iterating overwith loops."
   ]
  },
  {
   "cell_type": "code",
   "execution_count": 5,
   "id": "87440b6c",
   "metadata": {},
   "outputs": [],
   "source": [
    "def generate_sales_days(start_day, end_day):\n",
    "    \"\"\"\n",
    "    Generate a list of sales days from start_day to end_day.\n",
    "    :param start_day: Starting day of the sales period\n",
    "    :param end_day: Ending day of the sales period\n",
    "    :return: List of sales days\n",
    "    :rtype: list\n",
    "    \"\"\"\n",
    "    return list(range(start_day, end_day + 1))"
   ]
  },
  {
   "cell_type": "code",
   "execution_count": 6,
   "id": "2b8394f4",
   "metadata": {},
   "outputs": [
    {
     "data": {
      "text/plain": [
       "[1, 2, 3, 4, 5, 6, 7]"
      ]
     },
     "execution_count": 6,
     "metadata": {},
     "output_type": "execute_result"
    }
   ],
   "source": [
    "generate_sales_days(1, 7)"
   ]
  },
  {
   "cell_type": "markdown",
   "id": "0f5ba82b",
   "metadata": {},
   "source": [
    "### 4. Map Function\n",
    "\n",
    "Applies a given function to all items in an input list"
   ]
  },
  {
   "cell_type": "code",
   "execution_count": 1,
   "id": "b306be25",
   "metadata": {},
   "outputs": [],
   "source": [
    "def apply_discount(price, discount):\n",
    "    \"\"\"\n",
    "    Apply a discount to a given price.\n",
    "    :param price: Original price\n",
    "    :param discount: Discount percentage\n",
    "    :return: Price after applying the discount\n",
    "    :rtype: float\n",
    "    \"\"\"\n",
    "    return list(map(lambda x: x * (1 - discount / 100), price))"
   ]
  },
  {
   "cell_type": "code",
   "execution_count": 2,
   "id": "445316bf",
   "metadata": {},
   "outputs": [
    {
     "name": "stdout",
     "output_type": "stream",
     "text": [
      "[90.0, 180.0, 270.0, 360.0, 450.0]\n"
     ]
    }
   ],
   "source": [
    "print(apply_discount([100, 200, 300, 400, 500], 10)) # Apply 10% discount "
   ]
  },
  {
   "cell_type": "markdown",
   "id": "3f16d9d1",
   "metadata": {},
   "source": [
    "### 5. Filter Function\n",
    "\n",
    "Construct an iterator from elements of an iterable for which a function returns `True`"
   ]
  },
  {
   "cell_type": "code",
   "execution_count": 3,
   "id": "545f6fac",
   "metadata": {},
   "outputs": [],
   "source": [
    "def filter_high_sales(sales, threshold):\n",
    "    \"\"\"\n",
    "    Filter sales that are above a certain threshold.\n",
    "    :param sales: List of sales figures\n",
    "    :param threshold: Sales threshold\n",
    "    :return: List of sales above the threshold\n",
    "    :rtype: list\n",
    "    \"\"\"\n",
    "    return list(filter(lambda x: x > threshold, sales))"
   ]
  },
  {
   "cell_type": "code",
   "execution_count": 5,
   "id": "8ff94bbd",
   "metadata": {},
   "outputs": [
    {
     "name": "stdout",
     "output_type": "stream",
     "text": [
      "[200, 300]\n"
     ]
    }
   ],
   "source": [
    "print(filter_high_sales([100, 200, 50, 300, 150], 150)) # Filter sales greater than 150"
   ]
  },
  {
   "cell_type": "markdown",
   "id": "2564f31c",
   "metadata": {},
   "source": [
    "### 6. Sorted Function\n",
    "\n",
    "Returns a sorted list from the items in an iterable"
   ]
  },
  {
   "cell_type": "code",
   "execution_count": 7,
   "id": "f0e90b04",
   "metadata": {},
   "outputs": [],
   "source": [
    "def sorted_sales_data_by_sales(data):\n",
    "    \"\"\"\n",
    "    Sort sales data by sales figures.\n",
    "    :param data: List of tuples containing product name and sales figures\n",
    "    :return: Sorted list of tuples by sales figures\n",
    "    :rtype: list\n",
    "    \"\"\"\n",
    "    return sorted(data, key=lambda x: x['Sales'])"
   ]
  },
  {
   "cell_type": "code",
   "execution_count": 8,
   "id": "714a21a4",
   "metadata": {},
   "outputs": [],
   "source": [
    "sales_data = [\n",
    "    {'Product': 'Laptop', 'Sales': 150},\n",
    "    {'Product': 'Smartphone', 'Sales': 200},\n",
    "    {'Product': 'Tablet', 'Sales': 100}\n",
    "]"
   ]
  },
  {
   "cell_type": "code",
   "execution_count": 9,
   "id": "2ed6e8c0",
   "metadata": {},
   "outputs": [
    {
     "name": "stdout",
     "output_type": "stream",
     "text": [
      "[{'Product': 'Tablet', 'Sales': 100}, {'Product': 'Laptop', 'Sales': 150}, {'Product': 'Smartphone', 'Sales': 200}]\n"
     ]
    }
   ],
   "source": [
    "print(sorted_sales_data_by_sales(sales_data))"
   ]
  },
  {
   "cell_type": "markdown",
   "id": "84a88fe3",
   "metadata": {},
   "source": [
    "### 7. Enumerate Function"
   ]
  },
  {
   "cell_type": "markdown",
   "id": "21303d78",
   "metadata": {},
   "source": [
    "### 8. Zip Function"
   ]
  },
  {
   "cell_type": "markdown",
   "id": "8e3dbb77",
   "metadata": {},
   "source": [
    "### 9. Open Function"
   ]
  },
  {
   "cell_type": "markdown",
   "id": "4a3450f6",
   "metadata": {},
   "source": [
    "### 10. Sum Function"
   ]
  },
  {
   "cell_type": "markdown",
   "id": "2b8b25f6",
   "metadata": {},
   "source": []
  }
 ],
 "metadata": {
  "kernelspec": {
   "display_name": "python39",
   "language": "python",
   "name": "python3"
  },
  "language_info": {
   "codemirror_mode": {
    "name": "ipython",
    "version": 3
   },
   "file_extension": ".py",
   "mimetype": "text/x-python",
   "name": "python",
   "nbconvert_exporter": "python",
   "pygments_lexer": "ipython3",
   "version": "3.9.13"
  }
 },
 "nbformat": 4,
 "nbformat_minor": 5
}
